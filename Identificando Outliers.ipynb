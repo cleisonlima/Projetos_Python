{
 "cells": [
  {
   "cell_type": "code",
   "execution_count": 13,
   "id": "skilled-noise",
   "metadata": {},
   "outputs": [],
   "source": [
    "#Modelo de Análise de dados - Cleison Lima - Identificando outliers em um dataset simples#\n",
    "\n",
    "import numpy as np\n",
    "import matplotlib.pyplot as plt\n",
    "%matplotlib inline\n",
    "\n"
   ]
  },
  {
   "cell_type": "code",
   "execution_count": 38,
   "id": "packed-spanish",
   "metadata": {},
   "outputs": [
    {
     "name": "stdout",
     "output_type": "stream",
     "text": [
      "[0, 23, 19, 1550, 1550, 2000, 29, 154655, 2000, 20, 154654, 1500, 37, 26, 16, 1500, 17, 33, 28, 36, 38, 31, 4, 34, 32, 24, 9, 5, 1, 6, 7, 2, 15, 12, 22, 10, 25, 35]\n"
     ]
    }
   ],
   "source": [
    "# import random\n",
    "import random\n",
    "\n",
    "dataset = random.sample(range(0, 40), 30)\n",
    "dataset.insert(8, 1500)\n",
    "dataset.insert(3, 1550)\n",
    "dataset.insert(5, 2000)\n",
    "dataset.insert(7, 154654)\n",
    "dataset.insert(8, 1500)\n",
    "dataset.insert(3, 1550)\n",
    "dataset.insert(5, 2000)\n",
    "dataset.insert(7, 154655)\n",
    "\n",
    "print(dataset)"
   ]
  },
  {
   "cell_type": "code",
   "execution_count": 39,
   "id": "awful-spokesman",
   "metadata": {},
   "outputs": [],
   "source": [
    "outliers=[]\n",
    "\n",
    "def find_outliers(data_set):\n",
    "    corte_dp =3\n",
    "    media = np.mean(data_set)\n",
    "    dp =np.std(data_set)\n",
    "    \n",
    "    \n",
    "    for dado in data_set:\n",
    "        \n",
    "        z_score = (dado - media)/dp \n",
    "        if np.abs(z_score) > corte_dp:\n",
    "            outliers.append(dado)\n",
    "            \n",
    "    #print('Os outliers são: ', outliers)\n",
    "    \n",
    "    return outliers"
   ]
  },
  {
   "cell_type": "code",
   "execution_count": 40,
   "id": "seeing-louisville",
   "metadata": {},
   "outputs": [
    {
     "data": {
      "text/plain": [
       "[154655, 154654]"
      ]
     },
     "execution_count": 40,
     "metadata": {},
     "output_type": "execute_result"
    }
   ],
   "source": [
    "outliers = find_outliers(dataset)\n",
    "outliers"
   ]
  },
  {
   "cell_type": "code",
   "execution_count": null,
   "id": "protected-asian",
   "metadata": {},
   "outputs": [],
   "source": []
  }
 ],
 "metadata": {
  "kernelspec": {
   "display_name": "Python 3",
   "language": "python",
   "name": "python3"
  },
  "language_info": {
   "codemirror_mode": {
    "name": "ipython",
    "version": 3
   },
   "file_extension": ".py",
   "mimetype": "text/x-python",
   "name": "python",
   "nbconvert_exporter": "python",
   "pygments_lexer": "ipython3",
   "version": "3.8.5"
  }
 },
 "nbformat": 4,
 "nbformat_minor": 5
}
